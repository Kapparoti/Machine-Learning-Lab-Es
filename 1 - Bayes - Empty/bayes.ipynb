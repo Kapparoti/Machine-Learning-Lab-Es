{
 "cells": [
  {
   "cell_type": "code",
   "metadata": {
    "colab": {
     "base_uri": "https://localhost:8080/"
    },
    "id": "l7JoXbPoXy_F",
    "outputId": "f434f6aa-ec2f-44f6-f8d7-6022236f464c",
    "ExecuteTime": {
     "end_time": "2025-07-21T12:32:34.570723Z",
     "start_time": "2025-07-21T12:32:32.994618Z"
    }
   },
   "source": "pip install onedrivedownloader",
   "outputs": [
    {
     "name": "stdout",
     "output_type": "stream",
     "text": [
      "Requirement already satisfied: onedrivedownloader in c:\\users\\matte\\miniconda3\\envs\\numpy\\lib\\site-packages (1.1.3)\n",
      "Requirement already satisfied: requests in c:\\users\\matte\\miniconda3\\envs\\numpy\\lib\\site-packages (from onedrivedownloader) (2.32.4)\n",
      "Requirement already satisfied: tqdm in c:\\users\\matte\\miniconda3\\envs\\numpy\\lib\\site-packages (from onedrivedownloader) (4.67.1)\n",
      "Requirement already satisfied: charset_normalizer<4,>=2 in c:\\users\\matte\\miniconda3\\envs\\numpy\\lib\\site-packages (from requests->onedrivedownloader) (3.3.2)\n",
      "Requirement already satisfied: idna<4,>=2.5 in c:\\users\\matte\\miniconda3\\envs\\numpy\\lib\\site-packages (from requests->onedrivedownloader) (3.7)\n",
      "Requirement already satisfied: urllib3<3,>=1.21.1 in c:\\users\\matte\\miniconda3\\envs\\numpy\\lib\\site-packages (from requests->onedrivedownloader) (2.3.0)\n",
      "Requirement already satisfied: certifi>=2017.4.17 in c:\\users\\matte\\miniconda3\\envs\\numpy\\lib\\site-packages (from requests->onedrivedownloader) (2025.7.14)\n",
      "Requirement already satisfied: colorama in c:\\users\\matte\\miniconda3\\envs\\numpy\\lib\\site-packages (from tqdm->onedrivedownloader) (0.4.6)\n",
      "Note: you may need to restart the kernel to use updated packages.\n"
     ]
    }
   ],
   "execution_count": 1
  },
  {
   "cell_type": "code",
   "metadata": {
    "colab": {
     "base_uri": "https://localhost:8080/"
    },
    "id": "fsYE8NBYW0nk",
    "outputId": "0b1d04ff-549e-43ba-f499-e973a6ffe005",
    "ExecuteTime": {
     "end_time": "2025-07-21T12:32:40.780139Z",
     "start_time": "2025-07-21T12:32:38.731271Z"
    }
   },
   "source": [
    "import os\n",
    "import gzip\n",
    "import numpy as np\n",
    "import matplotlib.pyplot as plt\n",
    "from onedrivedownloader import download\n",
    "\n",
    "download(\n",
    "\t'https://unimore365-my.sharepoint.com/:u:/g/personal/215580_unimore_it/EXhnxAKIfcdIqSRJoFc_C6EBCT6S0CNLOYFW3ShqivC46w?e=Ii4NOp',\n",
    "\tfilename='./mnist/mnist_mnist.zip',\n",
    "\tunzip=True)\n",
    "\n",
    "\n",
    "def load_mnist_digits():\n",
    "\t\"\"\"\n",
    "\tLoads mnist (original, with digits).\n",
    "\n",
    "\tReturns\n",
    "\t-------\n",
    "\ttuple:\n",
    "\t\tx_train with shape(n_train_samples, h, w)\n",
    "\t\ty_train with shape(n_train_samples,)\n",
    "\t\tx_test with shape(n_test_samples, h, w)\n",
    "\t\ty_test with shape(n_test_samples,)\n",
    "\t\"\"\"\n",
    "\n",
    "\tx_train = np.load('mnist/x_train.npy')\n",
    "\ty_train = np.load('mnist/y_train.npy')\n",
    "\n",
    "\tx_test = np.load('mnist/x_test.npy')\n",
    "\ty_test = np.load('mnist/y_test.npy')\n",
    "\n",
    "\tlabel_dict = {i: str(i) for i in range(0, 10)}\n",
    "\n",
    "\treturn x_train, y_train, x_test, y_test, label_dict\n",
    "\n",
    "\n",
    "def load_mnist(threshold=0.5):\n",
    "\t\"\"\"\n",
    "\tLoads MNIST data (either digits or fashion) and returns it binarized.\n",
    "\n",
    "\tParameters\n",
    "\t----------\n",
    "\tthreshold: float\n",
    "\t\ta threshold in [0, 1] to binarize w.r.t.\n",
    "\n",
    "\tReturns\n",
    "\t-------\n",
    "\ttuple:\n",
    "\t\tx_train with shape(n_train_samples, h, w)\n",
    "\t\ty_train with shape(n_train_samples,)\n",
    "\t\tx_test with shape(n_test_samples, h, w)\n",
    "\t\ty_test with shape(n_test_samples,)\n",
    "\t\"\"\"\n",
    "\n",
    "\tx_train, y_train, x_test, y_test, label_dict = load_mnist_digits()\n",
    "\n",
    "\tx_train = np.float32(x_train) / 255.\n",
    "\tx_train[x_train >= threshold] = 1\n",
    "\tx_train[x_train < threshold] = 0\n",
    "\n",
    "\tx_test = np.float32(x_test) / 255.\n",
    "\tx_test[x_test >= threshold] = 1\n",
    "\tx_test[x_test < threshold] = 0\n",
    "\n",
    "\treturn x_train, y_train, x_test, y_test, label_dict"
   ],
   "outputs": [
    {
     "name": "stderr",
     "output_type": "stream",
     "text": [
      "100%|██████████| 11.6M/11.6M [00:00<00:00, 29.1MiB/s]\n"
     ]
    },
    {
     "name": "stdout",
     "output_type": "stream",
     "text": [
      "Unzipping file...\n"
     ]
    },
    {
     "name": "stderr",
     "output_type": "stream",
     "text": [
      "Extracting files: 100%|██████████| 4/4 [00:00<00:00, 18.02it/s]\n"
     ]
    }
   ],
   "execution_count": 2
  },
  {
   "cell_type": "code",
   "metadata": {
    "colab": {
     "base_uri": "https://localhost:8080/"
    },
    "id": "Fa15Lpq2as0A",
    "outputId": "14f42450-61b7-4392-b8ae-65ce87656fd7",
    "ExecuteTime": {
     "end_time": "2025-07-21T12:32:44.253199Z",
     "start_time": "2025-07-21T12:32:43.580285Z"
    }
   },
   "source": [
    "import numpy as np\n",
    "import matplotlib.pyplot as plt\n",
    "\n",
    "x_train, y_train, x_test, y_test, label_dict = load_mnist(threshold=0.5)\n",
    "\n",
    "print(f\"Training set -> number of examples: {len(x_train)}\")\n",
    "print(f\"Test set -> number of examples: {len(x_test)}\")\n",
    "print('-' * 30)\n",
    "print(f'X -> shape: {x_train.shape}')\n",
    "print(f\"X -> dtype: {x_train.dtype}\")\n",
    "print(f\"X -> min: {x_train.min()}\")\n",
    "print(f\"X -> max: {x_train.max()}\")\n",
    "print(f\"X -> values: {np.unique(x_train)}\")\n",
    "print('-' * 30)\n",
    "print(f\"Classes: {(np.unique(y_train))}\")\n",
    "\n",
    "num_row, num_col = 1, 10\n",
    "len_tr = len(x_train)\n",
    "f, subplots = plt.subplots(num_row, num_col, sharex='col', sharey='row')\n",
    "\n",
    "for cls in np.unique(y_train):\n",
    "\tidx = np.arange(len_tr)[y_train == cls]\n",
    "\tidx = np.random.choice(idx)\n",
    "\tX_img = x_train[idx]\n",
    "\tsubplots[cls].imshow(X_img, cmap='gray',\n",
    "\t\t\t\t\t\t interpolation='nearest', aspect='auto')\n",
    "\tsubplots[cls].set_title(f'Digit {cls}', fontweight=\"bold\")\n",
    "\tsubplots[cls].grid(visible=False)\n",
    "\tsubplots[cls].axis('off')\n",
    "\n",
    "f.set_size_inches(22.5, 4.5)"
   ],
   "outputs": [
    {
     "name": "stdout",
     "output_type": "stream",
     "text": [
      "Training set -> number of examples: 60000\n",
      "Test set -> number of examples: 10000\n",
      "------------------------------\n",
      "X -> shape: (60000, 28, 28)\n",
      "X -> dtype: float32\n",
      "X -> min: 0.0\n",
      "X -> max: 1.0\n",
      "X -> values: [0. 1.]\n",
      "------------------------------\n",
      "Classes: [0 1 2 3 4 5 6 7 8 9]\n"
     ]
    },
    {
     "data": {
      "text/plain": [
       "<Figure size 2250x450 with 10 Axes>"
      ],
      "image/png": "[encoded data removed]"
     },
     "metadata": {},
     "output_type": "display_data"
    }
   ],
   "execution_count": 3
  },
  {
   "metadata": {
    "id": "ua32NN0TYHga"
   },
   "cell_type": "code",
   "outputs": [],
   "execution_count": 3,
   "source": [
    "\"\"\"\n",
    "Class that models a Naive Bayes Classifier\n",
    "\"\"\"\n",
    "\n",
    "import numpy as np\n",
    "\n",
    "\n",
    "class NaiveBayesClassifier:\n",
    "\tdef __init__(self):\n",
    "\t\t\"\"\"\n",
    "\t\tClass constructor\n",
    "\t\t\"\"\"\n",
    "\n",
    "\t\tself._classes = None\n",
    "\t\tself._n_classes = 0\n",
    "\n",
    "\t\tself._eps = np.finfo(np.float32).eps\n",
    "\n",
    "\t\t# array of classes prior probabilities\n",
    "\t\tself._class_priors = []\n",
    "\n",
    "\t\t# array of probabilities of a pixel being active (for each class)\n",
    "\t\tself._pixel_probs_given_class = []\n",
    "\n",
    "\tdef fit(self, X, Y):\n",
    "\t\tself._classes = ...\n",
    "\t\tself._n_classes = ...\n",
    "\t\tself._class_priors = ...\n",
    "\t\tself._pixel_probs_given_class = ...\n",
    "\n",
    "\tdef predict(self, X, return_pred: bool = False):\n",
    "\t\tresults = ...\n",
    "\n",
    "\t\tif not return_pred:\n",
    "\t\t\treturn ...\n",
    "\t\treturn ..., results\n"
   ]
  },
  {
   "metadata": {
    "id": "-0veJlp2fNEI"
   },
   "cell_type": "markdown",
   "source": "**Step 1: training the Naive Bayes classifier on the training set.**"
  },
  {
   "cell_type": "code",
   "execution_count": 6,
   "metadata": {
    "id": "igAkkWhAfFEX"
   },
   "outputs": [],
   "source": [
    "# get the model\n",
    "nbc = NaiveBayesClassifier()\n",
    "\n",
    "# train\n",
    "nbc.fit(x_train, y_train)"
   ]
  },
  {
   "cell_type": "markdown",
   "metadata": {
    "id": "v1aGqvp4fpDB"
   },
   "source": [
    "**Step 2: evaluating the performance of the classifier on a set of unseen data (test set).**"
   ]
  },
  {
   "cell_type": "code",
   "execution_count": 7,
   "metadata": {
    "colab": {
     "base_uri": "https://localhost:8080/",
     "height": 523
    },
    "id": "RVcK2ezWfIkX",
    "outputId": "62b3cfb9-2a56-4ea0-d365-d7f016ec63d0"
   },
   "outputs": [
    {
     "output_type": "stream",
     "name": "stdout",
     "text": [
      "Accuracy: 0.8442\n"
     ]
    },
    {
     "output_type": "display_data",
     "data": {
      "text/plain": [
       "<Figure size 640x480 with 2 Axes>"
      ],
      "image/png": "[encoded data removed]"
     },
     "metadata": {}
    }
   ],
   "source": [
    "import itertools\n",
    "\n",
    "\n",
    "def plot_confusion_matrix(targets, predictions, classes,\n",
    "\t\t\t\t\t\t  normalize=True,\n",
    "\t\t\t\t\t\t  title='Confusion matrix',\n",
    "\t\t\t\t\t\t  cmap=plt.cm.Blues):\n",
    "\t\"\"\"\n",
    "\tThis function prints and plots the confusion matrix.\n",
    "\tNormalization can be applied by setting `normalize=True`.\n",
    "\t\"\"\"\n",
    "\tn_classes, = np.unique(targets).shape\n",
    "\n",
    "\tcm = np.zeros(shape=(n_classes, n_classes), dtype=np.float32)\n",
    "\tfor t, p in zip(targets, predictions):\n",
    "\t\tcm[int(t), int(p)] += 1\n",
    "\n",
    "\tif normalize:\n",
    "\t\tcm /= cm.sum(axis=1)\n",
    "\n",
    "\tplt.imshow(cm, interpolation='nearest', cmap=cmap)\n",
    "\tplt.title(title)\n",
    "\tplt.colorbar()\n",
    "\ttick_marks = np.arange(len(classes))\n",
    "\tplt.xticks(tick_marks, classes, rotation=45)\n",
    "\tplt.yticks(tick_marks, classes)\n",
    "\n",
    "\tfmt = '.2f'\n",
    "\tthresh = cm.max() / 2.\n",
    "\tfor i, j in itertools.product(range(cm.shape[0]), range(cm.shape[1])):\n",
    "\t\tplt.text(j, i, format(cm[i, j], fmt),\n",
    "\t\t\t\t horizontalalignment=\"center\",\n",
    "\t\t\t\t color=\"white\" if cm[i, j] > thresh else \"black\")\n",
    "\n",
    "\tplt.tight_layout()\n",
    "\tplt.ylabel('True label')\n",
    "\tplt.xlabel('Predicted label')\n",
    "\n",
    "\n",
    "# test\n",
    "predictions = nbc.predict(x_test.reshape((len(x_test), -1)))\n",
    "\n",
    "# evaluate performances\n",
    "accuracy = np.sum(np.uint8(predictions == y_test)) / len(y_test)\n",
    "print('Accuracy: {}'.format(accuracy))\n",
    "\n",
    "# show confusion matrix\n",
    "plot_confusion_matrix(targets=y_test,\n",
    "\t\t\t\t\t  predictions=predictions,\n",
    "\t\t\t\t\t  classes=[label_dict[l] for l in label_dict])"
   ]
  },
  {
   "cell_type": "code",
   "execution_count": 8,
   "metadata": {
    "colab": {
     "base_uri": "https://localhost:8080/",
     "height": 469
    },
    "id": "mXYFDINAYLpi",
    "outputId": "b5d04c26-8fab-4a12-fde7-164cf8560361"
   },
   "outputs": [
    {
     "output_type": "execute_result",
     "data": {
      "text/plain": [
       "Text(0.5, 1.0, 'Target: 2, Prediction: 2')"
      ]
     },
     "metadata": {},
     "execution_count": 8
    },
    {
     "output_type": "display_data",
     "data": {
      "text/plain": [
       "<Figure size 640x480 with 1 Axes>"
      ],
      "image/png": "[encoded data removed]"
     },
     "metadata": {}
    }
   ],
   "source": [
    "idx = np.random.randint(0, x_test.shape[0])\n",
    "\n",
    "x = x_test[idx]\n",
    "p = predictions[idx]\n",
    "y = y_test[idx]\n",
    "\n",
    "plt.imshow(x, cmap='gray')\n",
    "plt.title('Target: {}, Prediction: {}'.format(label_dict[int(y)], label_dict[int(p)]))"
   ]
  },
  {
   "cell_type": "code",
   "execution_count": 9,
   "metadata": {
    "id": "3iigFMnshb3u"
   },
   "outputs": [],
   "source": [
    "from IPython.display import HTML, Image\n",
    "from google.colab.output import eval_js\n",
    "from base64 import b64decode\n",
    "import io\n",
    "from PIL import Image as PILimage\n",
    "\n",
    "canvas_html = \"\"\"\n",
    "<canvas width=256 height=256></canvas>\n",
    "<button>Finish</button>\n",
    "<script>\n",
    "var canvas = document.querySelector('canvas')\n",
    "var ctx = canvas.getContext('2d')\n",
    "ctx.strokeStyle = \"#FFFFFF\"\n",
    "ctx.fillStyle = \"#000000\";\n",
    "ctx.fillRect(0, 0, 256, 256)\n",
    "ctx.lineWidth = %d\n",
    "var button = document.querySelector('button')\n",
    "var mouse = {x: 0, y: 0}\n",
    "\n",
    "canvas.addEventListener('mousemove', function(e) {\n",
    "  mouse.x = e.pageX - this.offsetLeft\n",
    "  mouse.y = e.pageY - this.offsetTop\n",
    "})\n",
    "canvas.onmousedown = ()=>{\n",
    "  ctx.beginPath()\n",
    "  ctx.moveTo(mouse.x, mouse.y)\n",
    "  canvas.addEventListener('mousemove', onPaint)\n",
    "}\n",
    "canvas.onmouseup = ()=>{\n",
    "  canvas.removeEventListener('mousemove', onPaint)\n",
    "}\n",
    "var onPaint = ()=>{\n",
    "  ctx.lineTo(mouse.x, mouse.y)\n",
    "  ctx.stroke()\n",
    "}\n",
    "\n",
    "var data = new Promise(resolve=>{\n",
    "  button.onclick = ()=>{\n",
    "    resolve(canvas.toDataURL('image/png'))\n",
    "  }\n",
    "})\n",
    "</script>\n",
    "\"\"\"\n",
    "\n",
    "\n",
    "def draw(filename='drawing.png', line_width=5, centercrop=True):\n",
    "\tdisplay(HTML(canvas_html % (line_width,)))\n",
    "\tdata = eval_js(\"data\")\n",
    "\tbinary = b64decode(data.split(',')[1])\n",
    "\tbuf = io.BytesIO(binary)\n",
    "\timg = PILimage.open(buf)\n",
    "\timg = img.resize((28, 28), PILimage.BILINEAR)\n",
    "\timg = img.convert('LA')\n",
    "\timg = np.array(img)[:, :, 0]\n",
    "\timg = img > 75\n",
    "\n",
    "\tcoords = np.argwhere(img)\n",
    "\tx_min, y_min = coords.min(axis=0)\n",
    "\tx_max, y_max = coords.max(axis=0)\n",
    "\tcropped = img[x_min:x_max + 1, y_min:y_max + 1]\n",
    "\n",
    "\tout_img = np.zeros((28, 28))\n",
    "\n",
    "\tdelta_x, delta_y = (28 - cropped.shape[0]) // 2, (28 - cropped.shape[1]) // 2\n",
    "\tout_img[delta_x:delta_x + cropped.shape[0], delta_y:delta_y + + cropped.shape[1]] = cropped\n",
    "\n",
    "\treturn out_img.astype(np.float32)"
   ]
  },
  {
   "cell_type": "code",
   "execution_count": 10,
   "metadata": {
    "colab": {
     "base_uri": "https://localhost:8080/",
     "height": 618
    },
    "id": "rGhCAuM1k5aR",
    "outputId": "76bbda43-0d5d-49b6-fdb8-8232a4d1546f"
   },
   "outputs": [
    {
     "output_type": "display_data",
     "data": {
      "text/plain": [
       "<IPython.core.display.HTML object>"
      ],
      "text/html": [
       "\n",
       "<canvas width=256 height=256></canvas>\n",
       "<button>Finish</button>\n",
       "<script>\n",
       "var canvas = document.querySelector('canvas')\n",
       "var ctx = canvas.getContext('2d')\n",
       "ctx.strokeStyle = \"#FFFFFF\"\n",
       "ctx.fillStyle = \"#000000\";\n",
       "ctx.fillRect(0, 0, 256, 256)\n",
       "ctx.lineWidth = 10\n",
       "var button = document.querySelector('button')\n",
       "var mouse = {x: 0, y: 0}\n",
       "\n",
       "canvas.addEventListener('mousemove', function(e) {\n",
       "  mouse.x = e.pageX - this.offsetLeft\n",
       "  mouse.y = e.pageY - this.offsetTop\n",
       "})\n",
       "canvas.onmousedown = ()=>{\n",
       "  ctx.beginPath()\n",
       "  ctx.moveTo(mouse.x, mouse.y)\n",
       "  canvas.addEventListener('mousemove', onPaint)\n",
       "}\n",
       "canvas.onmouseup = ()=>{\n",
       "  canvas.removeEventListener('mousemove', onPaint)\n",
       "}\n",
       "var onPaint = ()=>{\n",
       "  ctx.lineTo(mouse.x, mouse.y)\n",
       "  ctx.stroke()\n",
       "}\n",
       "\n",
       "var data = new Promise(resolve=>{\n",
       "  button.onclick = ()=>{\n",
       "    resolve(canvas.toDataURL('image/png'))\n",
       "  }\n",
       "})\n",
       "</script>\n"
      ]
     },
     "metadata": {}
    },
    {
     "output_type": "error",
     "ename": "KeyboardInterrupt",
     "evalue": "",
     "traceback": [
      "\u001B[0;31m---------------------------------------------------------------------------\u001B[0m",
      "\u001B[0;31mKeyboardInterrupt\u001B[0m                         Traceback (most recent call last)",
      "\u001B[0;32m<ipython-input-10-f40f302af67f>\u001B[0m in \u001B[0;36m<cell line: 1>\u001B[0;34m()\u001B[0m\n\u001B[0;32m----> 1\u001B[0;31m \u001B[0mimg\u001B[0m \u001B[0;34m=\u001B[0m \u001B[0mdraw\u001B[0m\u001B[0;34m(\u001B[0m\u001B[0mline_width\u001B[0m\u001B[0;34m=\u001B[0m\u001B[0;36m10\u001B[0m\u001B[0;34m)\u001B[0m\u001B[0;34m\u001B[0m\u001B[0;34m\u001B[0m\u001B[0m\n\u001B[0m\u001B[1;32m      2\u001B[0m \u001B[0mprint\u001B[0m\u001B[0;34m(\u001B[0m\u001B[0mimg\u001B[0m\u001B[0;34m.\u001B[0m\u001B[0mshape\u001B[0m\u001B[0;34m,\u001B[0m \u001B[0mimg\u001B[0m\u001B[0;34m.\u001B[0m\u001B[0mdtype\u001B[0m\u001B[0;34m,\u001B[0m \u001B[0mnp\u001B[0m\u001B[0;34m.\u001B[0m\u001B[0munique\u001B[0m\u001B[0;34m(\u001B[0m\u001B[0mimg\u001B[0m\u001B[0;34m)\u001B[0m\u001B[0;34m)\u001B[0m\u001B[0;34m\u001B[0m\u001B[0;34m\u001B[0m\u001B[0m\n\u001B[1;32m      3\u001B[0m \u001B[0mplt\u001B[0m\u001B[0;34m.\u001B[0m\u001B[0mimshow\u001B[0m\u001B[0;34m(\u001B[0m\u001B[0mimg\u001B[0m\u001B[0;34m,\u001B[0m \u001B[0mcmap\u001B[0m\u001B[0;34m=\u001B[0m\u001B[0;34m'Greys_r'\u001B[0m\u001B[0;34m)\u001B[0m\u001B[0;34m\u001B[0m\u001B[0;34m\u001B[0m\u001B[0m\n\u001B[1;32m      4\u001B[0m \u001B[0;34m\u001B[0m\u001B[0m\n\u001B[1;32m      5\u001B[0m \u001B[0mpred\u001B[0m\u001B[0;34m,\u001B[0m \u001B[0mnegllk\u001B[0m \u001B[0;34m=\u001B[0m \u001B[0mnbc\u001B[0m\u001B[0;34m.\u001B[0m\u001B[0mpredict\u001B[0m\u001B[0;34m(\u001B[0m\u001B[0mimg\u001B[0m\u001B[0;34m.\u001B[0m\u001B[0mreshape\u001B[0m\u001B[0;34m(\u001B[0m\u001B[0;36m1\u001B[0m\u001B[0;34m,\u001B[0m \u001B[0;36m28\u001B[0m\u001B[0;34m*\u001B[0m\u001B[0;36m28\u001B[0m\u001B[0;34m)\u001B[0m\u001B[0;34m,\u001B[0m \u001B[0;32mTrue\u001B[0m\u001B[0;34m)\u001B[0m\u001B[0;34m\u001B[0m\u001B[0;34m\u001B[0m\u001B[0m\n",
      "\u001B[0;32m<ipython-input-9-df6d6b324018>\u001B[0m in \u001B[0;36mdraw\u001B[0;34m(filename, line_width, centercrop)\u001B[0m\n\u001B[1;32m     45\u001B[0m \u001B[0;32mdef\u001B[0m \u001B[0mdraw\u001B[0m\u001B[0;34m(\u001B[0m\u001B[0mfilename\u001B[0m\u001B[0;34m=\u001B[0m\u001B[0;34m'drawing.png'\u001B[0m\u001B[0;34m,\u001B[0m \u001B[0mline_width\u001B[0m\u001B[0;34m=\u001B[0m\u001B[0;36m5\u001B[0m\u001B[0;34m,\u001B[0m \u001B[0mcentercrop\u001B[0m\u001B[0;34m=\u001B[0m\u001B[0;32mTrue\u001B[0m\u001B[0;34m)\u001B[0m\u001B[0;34m:\u001B[0m\u001B[0;34m\u001B[0m\u001B[0;34m\u001B[0m\u001B[0m\n\u001B[1;32m     46\u001B[0m   \u001B[0mdisplay\u001B[0m\u001B[0;34m(\u001B[0m\u001B[0mHTML\u001B[0m\u001B[0;34m(\u001B[0m\u001B[0mcanvas_html\u001B[0m \u001B[0;34m%\u001B[0m \u001B[0;34m(\u001B[0m\u001B[0mline_width\u001B[0m\u001B[0;34m,\u001B[0m \u001B[0;34m)\u001B[0m\u001B[0;34m)\u001B[0m\u001B[0;34m)\u001B[0m\u001B[0;34m\u001B[0m\u001B[0;34m\u001B[0m\u001B[0m\n\u001B[0;32m---> 47\u001B[0;31m   \u001B[0mdata\u001B[0m \u001B[0;34m=\u001B[0m \u001B[0meval_js\u001B[0m\u001B[0;34m(\u001B[0m\u001B[0;34m\"data\"\u001B[0m\u001B[0;34m)\u001B[0m\u001B[0;34m\u001B[0m\u001B[0;34m\u001B[0m\u001B[0m\n\u001B[0m\u001B[1;32m     48\u001B[0m   \u001B[0mbinary\u001B[0m \u001B[0;34m=\u001B[0m \u001B[0mb64decode\u001B[0m\u001B[0;34m(\u001B[0m\u001B[0mdata\u001B[0m\u001B[0;34m.\u001B[0m\u001B[0msplit\u001B[0m\u001B[0;34m(\u001B[0m\u001B[0;34m','\u001B[0m\u001B[0;34m)\u001B[0m\u001B[0;34m[\u001B[0m\u001B[0;36m1\u001B[0m\u001B[0;34m]\u001B[0m\u001B[0;34m)\u001B[0m\u001B[0;34m\u001B[0m\u001B[0;34m\u001B[0m\u001B[0m\n\u001B[1;32m     49\u001B[0m   \u001B[0mbuf\u001B[0m \u001B[0;34m=\u001B[0m \u001B[0mio\u001B[0m\u001B[0;34m.\u001B[0m\u001B[0mBytesIO\u001B[0m\u001B[0;34m(\u001B[0m\u001B[0mbinary\u001B[0m\u001B[0;34m)\u001B[0m\u001B[0;34m\u001B[0m\u001B[0;34m\u001B[0m\u001B[0m\n",
      "\u001B[0;32m/usr/local/lib/python3.10/dist-packages/google/colab/output/_js.py\u001B[0m in \u001B[0;36meval_js\u001B[0;34m(script, ignore_result, timeout_sec)\u001B[0m\n\u001B[1;32m     38\u001B[0m   \u001B[0;32mif\u001B[0m \u001B[0mignore_result\u001B[0m\u001B[0;34m:\u001B[0m\u001B[0;34m\u001B[0m\u001B[0;34m\u001B[0m\u001B[0m\n\u001B[1;32m     39\u001B[0m     \u001B[0;32mreturn\u001B[0m\u001B[0;34m\u001B[0m\u001B[0;34m\u001B[0m\u001B[0m\n\u001B[0;32m---> 40\u001B[0;31m   \u001B[0;32mreturn\u001B[0m \u001B[0m_message\u001B[0m\u001B[0;34m.\u001B[0m\u001B[0mread_reply_from_input\u001B[0m\u001B[0;34m(\u001B[0m\u001B[0mrequest_id\u001B[0m\u001B[0;34m,\u001B[0m \u001B[0mtimeout_sec\u001B[0m\u001B[0;34m)\u001B[0m\u001B[0;34m\u001B[0m\u001B[0;34m\u001B[0m\u001B[0m\n\u001B[0m\u001B[1;32m     41\u001B[0m \u001B[0;34m\u001B[0m\u001B[0m\n\u001B[1;32m     42\u001B[0m \u001B[0;34m\u001B[0m\u001B[0m\n",
      "\u001B[0;32m/usr/local/lib/python3.10/dist-packages/google/colab/_message.py\u001B[0m in \u001B[0;36mread_reply_from_input\u001B[0;34m(message_id, timeout_sec)\u001B[0m\n\u001B[1;32m     94\u001B[0m     \u001B[0mreply\u001B[0m \u001B[0;34m=\u001B[0m \u001B[0m_read_next_input_message\u001B[0m\u001B[0;34m(\u001B[0m\u001B[0;34m)\u001B[0m\u001B[0;34m\u001B[0m\u001B[0;34m\u001B[0m\u001B[0m\n\u001B[1;32m     95\u001B[0m     \u001B[0;32mif\u001B[0m \u001B[0mreply\u001B[0m \u001B[0;34m==\u001B[0m \u001B[0m_NOT_READY\u001B[0m \u001B[0;32mor\u001B[0m \u001B[0;32mnot\u001B[0m \u001B[0misinstance\u001B[0m\u001B[0;34m(\u001B[0m\u001B[0mreply\u001B[0m\u001B[0;34m,\u001B[0m \u001B[0mdict\u001B[0m\u001B[0;34m)\u001B[0m\u001B[0;34m:\u001B[0m\u001B[0;34m\u001B[0m\u001B[0;34m\u001B[0m\u001B[0m\n\u001B[0;32m---> 96\u001B[0;31m       \u001B[0mtime\u001B[0m\u001B[0;34m.\u001B[0m\u001B[0msleep\u001B[0m\u001B[0;34m(\u001B[0m\u001B[0;36m0.025\u001B[0m\u001B[0;34m)\u001B[0m\u001B[0;34m\u001B[0m\u001B[0;34m\u001B[0m\u001B[0m\n\u001B[0m\u001B[1;32m     97\u001B[0m       \u001B[0;32mcontinue\u001B[0m\u001B[0;34m\u001B[0m\u001B[0;34m\u001B[0m\u001B[0m\n\u001B[1;32m     98\u001B[0m     if (\n",
      "\u001B[0;31mKeyboardInterrupt\u001B[0m: "
     ]
    }
   ],
   "source": [
    "img = draw(line_width=10)\n",
    "print(img.shape, img.dtype, np.unique(img))\n",
    "plt.imshow(img, cmap='Greys_r')\n",
    "\n",
    "pred, negllk = nbc.predict(img.reshape(1, 28 * 28), True)\n",
    "classes_ord = np.arange(len(np.unique(y_test)))[np.argsort(negllk)]\n",
    "classes_ord = np.flip(classes_ord)\n",
    "print(f'Predicted - {pred}')\n",
    "print(f'Scores: {negllk}')\n",
    "print(f'Classes ordered by scores: {classes_ord}')"
   ]
  },
  {
   "cell_type": "code",
   "execution_count": null,
   "metadata": {
    "id": "7GGqtBQUrYHN"
   },
   "outputs": [],
   "source": []
  }
 ],
 "metadata": {
  "colab": {
   "provenance": []
  },
  "kernelspec": {
   "display_name": "Python 3.8.12 ('torch')",
   "language": "python",
   "name": "python3"
  },
  "language_info": {
   "codemirror_mode": {
    "name": "ipython",
    "version": 3
   },
   "file_extension": ".py",
   "mimetype": "text/x-python",
   "name": "python",
   "nbconvert_exporter": "python",
   "pygments_lexer": "ipython3",
   "version": "3.8.12"
  },
  "toc": {
   "base_numbering": 1,
   "nav_menu": {},
   "number_sections": true,
   "sideBar": true,
   "skip_h1_title": false,
   "title_cell": "Table of Contents",
   "title_sidebar": "Contents",
   "toc_cell": false,
   "toc_position": {},
   "toc_section_display": true,
   "toc_window_display": false
  },
  "vscode": {
   "interpreter": {
    "hash": "a58c90aaaf62e5f8a47211752fce3a7bb3007b680eb2c05bbd7d19b8ca244527"
   }
  }
 },
 "nbformat": 4,
 "nbformat_minor": 0
}
